{
 "cells": [
  {
   "cell_type": "markdown",
   "metadata": {},
   "source": [
    "## Rollercoaster.fun\n",
    "\n",
    "Simula un parco divertimenti. Il codice dovrà prevedere le seguenti classi:\n",
    "\n",
    "- <code>PuntoCartesiano</code>: deve contenere gli attributi <code>x</code> e <code>y</code>\n",
    "\n",
    "- <code>Umano</code>: deve contenere gli attributi <code>posizione</code> (sarà di tipo PuntoCartesiano), <code>nome</code> (str), <code>cognome</code> (str), <code>tipo</code> (str) e <code>attrazioniDesiderate</code> (list[str]).\n",
    "\n",
    "- <code>Bambino</code>: deve ereditare da <code>Umano</code>, deve avere come <code>attrazioniDesiderate</code> le seguenti attrazioni: \"tazze\", \"bruco\", \"covo dei pirati\"\n",
    "\n",
    "- <code>Ragazzo</code>: deve ereditare da <code>Umano</code>, deve avere come <code>attrazioniDesiderate</code> le seguenti attrazioni: \"Raptor\", \"Blue Tornado\", \"Space Vertigo\"\n",
    "\n",
    "- <code>Adulto</code>: deve ereditare da <code>Umano</code>.\n",
    "\n",
    "- <code>Location</code>: deve contenere gli attributi <code>nome</code> (str) e <code>posizione</code> (PuntoCartesiano)\n",
    "\n",
    "- <code>Ristoro</code>: deve ereditare da <code>Location</code> e contenere gli attributi <code>capienzaAttuale</code> (int) e <code>capienzaMassima</code> (int)\n",
    "\n",
    "- <code>Attrazione</code>: deve ereditare da <code>Location</code> e contenere gli attributi <code>perBambini</code> (bool), <code>capienzaAttuale</code> (int), <code>capienzaMassima</code> (int), <code>tempoAttesa</code> (int, rappresenta quanto tempo le persone in fila dovranno aspettare quando <code>capienzaAttuale == 0</code> prima che <code>capienzaAttuale</code> diventi immediatamente di nuovo uguale alla capienza massima)\n",
    "\n",
    "Creare 4 famiglie (1 adulto, 1 bambino e 1 o più ragazzi, tutti con lo stesso cognome).\n",
    "Prevedere costruttori ed i metodi dunder appropriati per ogni classe."
   ]
  },
  {
   "cell_type": "code",
   "execution_count": null,
   "metadata": {},
   "outputs": [
    {
     "ename": "ModuleNotFoundError",
     "evalue": "No module named 'pytest'",
     "output_type": "error",
     "traceback": [
      "\u001b[1;31m---------------------------------------------------------------------------\u001b[0m",
      "\u001b[1;31mModuleNotFoundError\u001b[0m                       Traceback (most recent call last)",
      "Cell \u001b[1;32mIn[14], line 2\u001b[0m\n\u001b[0;32m      1\u001b[0m \u001b[38;5;66;03m# Import\u001b[39;00m\n\u001b[1;32m----> 2\u001b[0m \u001b[38;5;28;01mimport\u001b[39;00m \u001b[38;5;21;01mpytest\u001b[39;00m \n\u001b[0;32m      4\u001b[0m \u001b[38;5;66;03m# Definizione delle classi\u001b[39;00m\n\u001b[0;32m      5\u001b[0m \u001b[38;5;66;03m# Definiamo la classe PuntoCartesiano\u001b[39;00m\n\u001b[0;32m      6\u001b[0m \u001b[38;5;28;01mclass\u001b[39;00m \u001b[38;5;21;01mPuntoCartesiano\u001b[39;00m:\n",
      "\u001b[1;31mModuleNotFoundError\u001b[0m: No module named 'pytest'"
     ]
    }
   ],
   "source": [
    "# Import\n",
    "import pytest\n",
    "\n",
    "# Definizione delle classi\n",
    "# Definiamo la classe PuntoCartesiano\n",
    "class PuntoCartesiano:\n",
    "    def __init__(self, x0: int | float = 0.0, y0: int | float = 0.0):\n",
    "        self.x: int | float = x0\n",
    "        self.y: int | float = y0\n",
    "\n",
    "# Definiamo la classe Umano \n",
    "class Umano:\n",
    "    def __init__(self, posizione: PuntoCartesiano, nome: str, cognome: str, tipo: str, attrazioniDesiderate: list[str]):\n",
    "        self.posizione = posizione\n",
    "        self.nome = nome\n",
    "        self.cognome = cognome\n",
    "        self.tipo = tipo\n",
    "        self.attrazioniDesiderate = attrazioniDesiderate\n",
    "        \n",
    "# Definiamo la classe Bambino\n",
    "class Bambino(Umano) :\n",
    "    def __init__(self, posizione, nome, cognome):\n",
    "        super().__init__(posizione = posizione, nome = nome, cognome = cognome, tipo = 'Bambino', attrazioniDesiderate = ['tazze', 'bruco', 'covo dei pirati'])\n",
    "           \n",
    "\n",
    "# Definiamo la classe Ragazzo\n",
    "class Ragazzo(Umano) : \n",
    "    def __init__(self, posizione, nome, cognome):\n",
    "        super().__init__(posizione = posizione, nome = nome, cognome = cognome, tipo = 'Ragazzo', attrazioniDesiderate = ['Raptor', 'Blue Tornado', 'Space Vertigo'])\n",
    "\n",
    "# Definiamo la classe Adulto\n",
    "class Adulto(Umano) :\n",
    "    def __init__(self, posizione, nome, cognome, attrazioniDesiderate):\n",
    "        super().__init__(posizione = posizione, nome = nome, cognome = cognome, tipo = 'Ragazzo', attrazioniDesiderate = attrazioniDesiderate)\n",
    "\n",
    "# Definiamo la classe Location\n",
    "class Location : \n",
    "    def __init__(self, nome: str, posizione: PuntoCartesiano):\n",
    "        self.nome = nome\n",
    "        self.posizione = posizione \n",
    "\n",
    "# Definiamo la classe Ristoro\n",
    "class Ristoro (Location) : \n",
    "    def __init__(self, nome: str, posizione: PuntoCartesiano, capienzaMassima: int, capienzaAttuale: int):\n",
    "        super().__init__(nome = nome, posizione = posizione, capienzaAttuale = capienzaAttuale, capienzaMassima = capienzaMassima)\n",
    "        self.capienzaAttuale = capienzaAttuale\n",
    "        self.capienzaMassima = capienzaMassima\n",
    "\n",
    "        \n",
    "# Definiamo la classe Attrazione\n",
    "class Attrazioni (Location) :\n",
    "    def __init__(self, nome: str, posizione: PuntoCartesiano, capienzaMassima: int, capienzaAttuale: int, bambini: bool, tempoAttesa: int):\n",
    "        super().__init__(nome = nome, posizione = posizione, capienzaAttuale = capienzaAttuale, capienzaMassima = capienzaMassima, bambini = bambini, tempoAttesa = tempoAttesa)\n",
    "        self.capienzaAttuale = capienzaAttuale\n",
    "        self.capienzaMassima = capienzaMassima\n",
    "        self.tempoAttesa = tempoAttesa\n",
    "        self.bambini = bambini\n",
    "\n",
    "#definiamo 4 famiglie \n",
    "\n",
    "famigliaFollo= []\n",
    "\n",
    "famigliaMorotti = []\n",
    "\n",
    "famigliaJanas = []\n",
    "\n",
    "famigliaAlbrizio= []\n",
    "\n",
    "\n",
    "# Test delle classi\n",
    "def test_testcartesiano():\n",
    "    posizione1 = PuntoCartesiano(3,5)\n",
    "    assert posizione1.x == 3\n",
    "    assert posizione1.y == 5 \n",
    "    assert isinstance(posizione1, PuntoCartesiano)"
   ]
  },
  {
   "cell_type": "markdown",
   "metadata": {},
   "source": [
    "### Advanced Requirement: Sorteggiare l'ordine delle Attrazioni \n",
    "\n",
    "Prevedere che le attrazioni preferite non siano necessariamente tutte nello stesso ordine per ogni oggetto della stessa classe: ogni oggetto <code>Bambino</code> ed ogni oggetto <code>Ragazzo</code> dovrebbe creare la propria lista di attrazioni preferite scegliendole non necessariamente nell'ordine specificato. \n",
    "\n",
    "Ad esempio per un oggetto <code>Bambino</code> l'attributo <code>attrazioniDesiderate</code> potrebbe essere <code>[\"tazze\", \"covo dei pirati\", \"bruco\"]</code> mentre per un secondo oggetto <code>Bambino</code> potrebbe essere <code>[\"covo dei pirati\", \"bruco\", \"tazze\"]</code> \n",
    "\n",
    "<b>Suggerimento</b>: dai un'occhiata ad una tra le funzioni randint, choice o choices del modulo random."
   ]
  },
  {
   "cell_type": "code",
   "execution_count": null,
   "metadata": {},
   "outputs": [],
   "source": [
    "# Ricrea tutti gli Umani, randomizzando l'ordine degli elementi \n",
    "# nel loro attributo \"attrazioni_desiderate\""
   ]
  },
  {
   "cell_type": "markdown",
   "metadata": {},
   "source": [
    "### Advanced Requirements: Simulare il parco divertimenti con una coda per ogni Attrazione\n",
    "\n",
    "Ogni attrazione dovrà avere due \"code\", ossia due liste di oggetti <code>Umano</code> (<code>clientiServiti</code> e <code>clientiInAttesa</code>), che rappresentano:\n",
    "- la coda <code>clientiServiti</code> rappresenta le persone che stanno facendo quella attrazione (per ogni oggetto <code>Umano</code> che fa quella attrazione, l'attributo <code>capienza_attuale</code> di quella attrazione deve diminuire di 1 e l'oggetto umano deve essere aggiunto alla fine della coda);\n",
    "\n",
    "\n",
    "- la coda <code>clientiInAttesa</code> rappresenta le persone che vogliono fare quella attrazione ma ancora non possono, perchè per tale attrazione, l'attributo <code>capienzaAttuale</code> è == 0 (quindi questa coda inizierà a riempirsi per la prima volta solo quando la coda <code>clientiServiti</code> sarà piena).\n",
    "\n",
    "Simula con un ciclo for le due code di ciascuna <code>Attrazione</code>, stampando a video per ogni iterazione il seguente messaggio:\n",
    "\n",
    "\\<Attrazione\\> ---> \\<Clienti Serviti\\>: \\<lunghezza della coda <code>clientiServiti</code> \\> | \\<Clienti in Attesa\\> : \\<lunghezza della coda <code>clientiInAttesa</code> \\> , ad esempio:\n",
    "\n",
    "<code> Attrazione \"Bruco\" ---> Clienti Serviti: 10 | Clienti in Attesa: 3 </code>\n",
    "\n",
    "Supponi che ogni <code>Attrazione</code> \"parta\" solo quando è piena (cioè quando l'attributo <code>capienzaAttuale</code> è == 0). Quando l'attrazione parte (cioè quindi quando la sua coda <code>clientiServiti</code> è == alla sua capienza_massima) inizierà quindi a rimepirsi la sua coda <code>clientiInAttesa</code>. Nel momento in cui una attrazione è piena, il suo attributo <code>tempoAttesa</code> viene impostato a 5 e viene decrementato di 1 ad ogni iterazionen del ciclo for; una volta a 0, la sua <code>capienzaAttuale</code> viene di nuovo impostata pari alla sua <code>capienzaMassima</code>.\n",
    "\n",
    "Aggiungi poi una terza coda, <code>clientiInSospeso</code>, dove finiranno tutti gli oggetti <code>Umano</code> nel momento in cui verranno rimossi dalla coda <code>clientiServiti</code> di una qualsiasi attrazione. Ad ogni iterazione del ciclo for, dovrai occuparti di spostare tutti gli <code>Umani</code> da questa coda alla loro prossima attrazione (cioè nella coda <code>clientiServiti</code> dell'attrazione se quella attrazione accetta ancora clienti, oppure nella coda <code>clientiInAttesa</code> della attrazione se invece l'attrazione è piena).\n",
    "\n",
    "Inoltre, attendi l'input dell'utente per procedere con l'iterazione successiva."
   ]
  },
  {
   "cell_type": "code",
   "execution_count": null,
   "metadata": {},
   "outputs": [],
   "source": []
  },
  {
   "cell_type": "markdown",
   "metadata": {},
   "source": [
    "# IGNORA QUALSIASI REQUISITO DA QUI IN POI\n",
    "\n",
    "<b>Attenzione: per ora ignora qualsiasi requisito scritto da qui in poi. Sono requisiti ancora in fase di sviluppo!</b>"
   ]
  },
  {
   "cell_type": "markdown",
   "metadata": {},
   "source": [
    "### Advanced Requirement: Simulare il parco divertimenti con la grafica. \n",
    "\n",
    "Ogni Location e ogni Umano avrà una sua posizione. Le 6 attrazioni devono avere posizioni distinte (e sufficientemente distanti tra loro). Anche il punto di ristoro dovrà avere una posizione distinta.\n",
    "\n",
    "Quando un Umano vuole fare una Attrazione, la sua posizione dovrà:\n",
    "- diventare quella della Attrazione se la capienza attuale della Attrazione non sarà pari a quella massima\n",
    "\n",
    "- \"gravitare intorno alla Attrazione\" se la capienza attuale della Attrazione sarà pari a quella massima, rappresentando il fatto che l'Umano si metta in attesa. Per \"gravitare intorno ad una Attrazione\" un Umano si posiziona entro una distanza dalla posizione dell'Attrazione pari a <code>r</code> (decisa da te e uguale per tutte le Attrazioni), ad un angolo randomizzato tra 0 e 359°."
   ]
  }
 ],
 "metadata": {
  "kernelspec": {
   "display_name": "base",
   "language": "python",
   "name": "python3"
  },
  "language_info": {
   "codemirror_mode": {
    "name": "ipython",
    "version": 3
   },
   "file_extension": ".py",
   "mimetype": "text/x-python",
   "name": "python",
   "nbconvert_exporter": "python",
   "pygments_lexer": "ipython3",
   "version": "3.12.4"
  }
 },
 "nbformat": 4,
 "nbformat_minor": 2
}
